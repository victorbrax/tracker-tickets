{
 "cells": [
  {
   "attachments": {},
   "cell_type": "markdown",
   "metadata": {},
   "source": [
    "## Imports"
   ]
  },
  {
   "cell_type": "code",
   "execution_count": null,
   "metadata": {},
   "outputs": [],
   "source": [
    "import pandas as pd\n",
    "import openpyxl\n",
    "from openpyxl.utils import get_column_letter\n",
    "from openpyxl.styles import Font, PatternFill\n",
    "import string\n",
    "from utils.dfstyles import row_style"
   ]
  },
  {
   "attachments": {},
   "cell_type": "markdown",
   "metadata": {},
   "source": [
    "## Sheetfiles Path"
   ]
  },
  {
   "cell_type": "code",
   "execution_count": null,
   "metadata": {},
   "outputs": [],
   "source": [
    "file_path1 = 'sheetfiles\\Planilha 1.xlsx'\n",
    "file_path2 = 'sheetfiles\\Planilha 2.csv'\n",
    "save_path = 'sheetfiles/Tracker Tickets.xlsx'"
   ]
  },
  {
   "attachments": {},
   "cell_type": "markdown",
   "metadata": {},
   "source": [
    "## Read and drop the junk"
   ]
  },
  {
   "cell_type": "code",
   "execution_count": null,
   "metadata": {},
   "outputs": [],
   "source": [
    "df1 = pd.read_excel(file_path1)\n",
    "df2 = pd.read_csv(file_path2, sep=';')\n",
    "\n",
    "df1_junk = [0, 2, 3, 5, 6] + list(range(15, 20))\n",
    "df2_junk = list(range(4, 10)) + [11, 12, 13]\n",
    "\n",
    "df1.drop(df1.columns[df1_junk], axis=1, inplace=True)\n",
    "df2.drop(df2.columns[df2_junk], axis=1, inplace=True)"
   ]
  },
  {
   "attachments": {},
   "cell_type": "markdown",
   "metadata": {},
   "source": [
    "## Merged DF Customs"
   ]
  },
  {
   "cell_type": "code",
   "execution_count": null,
   "metadata": {},
   "outputs": [],
   "source": [
    "df_merged = df1.merge(df2, left_on='Our Tickets', right_on='No.', how='left')\n",
    "\n",
    "df_merged.drop(['No.'], axis=1, inplace=True)\n",
    "\n",
    "df_merged.rename(columns={'Notes': 'Comentários', \n",
    "                          'Title': 'Título',\n",
    "                          'Our Tickets': 'Tickets',\n",
    "                          'Date': 'Data de Criação WHD',\n",
    "                          'Updated': 'Atualização',\n",
    "                          'Request Detail': 'Descrição'}, inplace=True)"
   ]
  },
  {
   "attachments": {},
   "cell_type": "markdown",
   "metadata": {},
   "source": [
    "### Apply yellow highlight rows and save"
   ]
  },
  {
   "cell_type": "code",
   "execution_count": null,
   "metadata": {},
   "outputs": [],
   "source": [
    "df_merged = df_merged.style.apply(row_style, axis=1)\n",
    "df_merged.to_excel(save_path , index=False)"
   ]
  },
  {
   "attachments": {},
   "cell_type": "markdown",
   "metadata": {},
   "source": [
    "### Rename Worksheet"
   ]
  },
  {
   "cell_type": "code",
   "execution_count": null,
   "metadata": {},
   "outputs": [],
   "source": [
    "wb = openpyxl.load_workbook(save_path)\n",
    "ws = wb['Sheet1']\n",
    "ws.title = 'Tracker Tickets'"
   ]
  },
  {
   "cell_type": "markdown",
   "metadata": {},
   "source": [
    "### Set up style lists and objects"
   ]
  },
  {
   "cell_type": "code",
   "execution_count": null,
   "metadata": {},
   "outputs": [],
   "source": [
    "letters = string.ascii_uppercase\n",
    "cells = [letter + '1' for letter in letters if letter <= 'N'] # List of cells from 'A1' to 'M1'\n",
    "\n",
    "# Colors\n",
    "fill = PatternFill(patternType='solid', fgColor='00008B')\n",
    "font = Font(bold=True, color='ffffff', size=12)"
   ]
  },
  {
   "attachments": {},
   "cell_type": "markdown",
   "metadata": {},
   "source": [
    "### Apply"
   ]
  },
  {
   "cell_type": "code",
   "execution_count": null,
   "metadata": {},
   "outputs": [],
   "source": [
    "for column in ws.iter_cols():\n",
    "    for cell in column:\n",
    "        if cell.coordinate in cells:\n",
    "            cell.fill = fill\n",
    "            cell.font = font"
   ]
  },
  {
   "attachments": {},
   "cell_type": "markdown",
   "metadata": {},
   "source": [
    "### Finish"
   ]
  },
  {
   "cell_type": "code",
   "execution_count": null,
   "metadata": {},
   "outputs": [],
   "source": [
    "# Finish\n",
    "wb.save(save_path)\n",
    "wb.close()"
   ]
  }
 ],
 "metadata": {
  "kernelspec": {
   "display_name": "Python 3",
   "language": "python",
   "name": "python3"
  },
  "language_info": {
   "codemirror_mode": {
    "name": "ipython",
    "version": 3
   },
   "file_extension": ".py",
   "mimetype": "text/x-python",
   "name": "python",
   "nbconvert_exporter": "python",
   "pygments_lexer": "ipython3",
   "version": "3.11.2"
  },
  "orig_nbformat": 4
 },
 "nbformat": 4,
 "nbformat_minor": 2
}
